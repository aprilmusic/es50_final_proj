{
 "cells": [
  {
   "cell_type": "code",
   "execution_count": 1,
   "id": "10d9ea9e",
   "metadata": {},
   "outputs": [],
   "source": [
    "import numpy as np\n",
    "from PIL import Image\n",
    "from scipy.spatial import KDTree\n",
    "\n",
    "import matplotlib.pyplot as plt\n",
    "import imageio.v3 as iio\n",
    "import skimage\n",
    "from scipy import ndimage\n"
   ]
  },
  {
   "cell_type": "code",
   "execution_count": 87,
   "id": "88d6783a",
   "metadata": {},
   "outputs": [],
   "source": [
    "\n",
    "\n",
    "# Load the two images\n",
    "img1 = Image.open('images/science_center1680284125.821405.png')\n",
    "img2 = Image.open('images/science_center1680972203.6774762.png')\n",
    "\n",
    "one_truck_image = Image.open('images/science_center1680972141.722928.png').convert('RGB')\n",
    "bg = Image.open('images/background_4-21.jpg')\n",
    "\n",
    "truck_1_location = [[1000, 1600], [1500, 2600]]\n",
    "truck_2_location = [[600, 1000], [2200, 3000]]"
   ]
  },
  {
   "cell_type": "code",
   "execution_count": 90,
   "id": "c90761f6",
   "metadata": {},
   "outputs": [
    {
     "data": {
      "text/plain": [
       "(2070, 3456, 3)"
      ]
     },
     "execution_count": 90,
     "metadata": {},
     "output_type": "execute_result"
    }
   ],
   "source": [
    "img = Image.open('images/science_center1680284125.821405.png').convert('RGB')\n",
    "img = np.asarray(img)\n",
    "\n",
    "# img = np.asarray(one_truck_image)\n",
    "img.shape"
   ]
  },
  {
   "cell_type": "code",
   "execution_count": 91,
   "id": "847e9f3b",
   "metadata": {},
   "outputs": [],
   "source": [
    "truck1 = Image.fromarray(img[truck_1_location[0][0]:truck_1_location[0][1],\n",
    "                    truck_1_location[1][0]:truck_1_location[1][1],:])\n",
    "truck1.show()"
   ]
  },
  {
   "cell_type": "code",
   "execution_count": 70,
   "id": "024e97ec",
   "metadata": {},
   "outputs": [],
   "source": [
    "truck2 = Image.fromarray(img[truck_2_location[0][0]:truck_2_location[0][1],\n",
    "                    truck_2_location[1][0]:truck_2_location[1][1],:])\n",
    "truck2.show()"
   ]
  },
  {
   "cell_type": "code",
   "execution_count": 71,
   "id": "97ff41bc",
   "metadata": {},
   "outputs": [
    {
     "data": {
      "text/plain": [
       "array([139., 193., 214.])"
      ]
     },
     "execution_count": 71,
     "metadata": {},
     "output_type": "execute_result"
    }
   ],
   "source": [
    "np.median(truck1, axis=(0,1)) "
   ]
  },
  {
   "cell_type": "code",
   "execution_count": 72,
   "id": "369094b7",
   "metadata": {},
   "outputs": [
    {
     "data": {
      "text/plain": [
       "array([202., 202., 212.])"
      ]
     },
     "execution_count": 72,
     "metadata": {},
     "output_type": "execute_result"
    }
   ],
   "source": [
    "np.median(truck2, axis=(0,1)) # gray"
   ]
  },
  {
   "cell_type": "code",
   "execution_count": null,
   "id": "5dae0c0e",
   "metadata": {},
   "outputs": [],
   "source": []
  }
 ],
 "metadata": {
  "kernelspec": {
   "display_name": "Python 3 (ipykernel)",
   "language": "python",
   "name": "python3"
  },
  "language_info": {
   "codemirror_mode": {
    "name": "ipython",
    "version": 3
   },
   "file_extension": ".py",
   "mimetype": "text/x-python",
   "name": "python",
   "nbconvert_exporter": "python",
   "pygments_lexer": "ipython3",
   "version": "3.8.16"
  }
 },
 "nbformat": 4,
 "nbformat_minor": 5
}
