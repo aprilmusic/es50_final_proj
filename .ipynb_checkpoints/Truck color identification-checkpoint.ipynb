{
 "cells": [
  {
   "cell_type": "code",
   "execution_count": 133,
   "id": "10d9ea9e",
   "metadata": {},
   "outputs": [],
   "source": [
    "import numpy as np\n",
    "from PIL import Image\n",
    "from scipy.spatial import KDTree\n",
    "\n",
    "import matplotlib.pyplot as plt\n",
    "import imageio.v3 as iio\n",
    "import skimage\n",
    "from scipy import ndimage\n"
   ]
  },
  {
   "cell_type": "code",
   "execution_count": 138,
   "id": "88d6783a",
   "metadata": {},
   "outputs": [],
   "source": [
    "\n",
    "\n",
    "# Load the two images\n",
    "img1 = Image.open('images/science_center1680284125.821405.png').convert('RGB')\n",
    "img2 = Image.open('images/science_center1680972203.6774762.png').convert('RGB')\n",
    "chicken_1 = Image.open('images/chicken_1.png').convert('RGB')\n",
    "chicken_2 = Image.open('images/chicken_2.png').convert('RGB')\n",
    "chicken_3 = Image.open('images/chicken_3.png').convert('RGB')\n",
    "tenoch_1 = Image.open('images/tenoch1.png').convert('RGB')\n",
    "\n",
    "\n",
    "one_truck_image = Image.open('images/science_center1680972141.722928.png').convert('RGB')\n",
    "bg = Image.open('images/background_4-21.jpg')\n",
    "\n",
    "img4 = Image.open('images/img4.png').convert('RGB')\n",
    "img5 =  Image.open('images/img5.png').convert('RGB')\n",
    "\n",
    "img6 =  Image.open('images/img6.png').convert('RGB')\n",
    "\n",
    "\n",
    "truck_1_location = [[1000, 1600], [1500, 2600]]\n",
    "truck_2_location = [[800, 1200], [2200, 3000]]\n",
    "truck_3_location = [[600, 900], [2800, 3000]]"
   ]
  },
  {
   "cell_type": "code",
   "execution_count": 111,
   "id": "cdd8158c",
   "metadata": {},
   "outputs": [
    {
     "data": {
      "text/plain": [
       "(3456, 2070)"
      ]
     },
     "execution_count": 111,
     "metadata": {},
     "output_type": "execute_result"
    }
   ],
   "source": [
    "img1.size"
   ]
  },
  {
   "cell_type": "code",
   "execution_count": 112,
   "id": "b80c3480",
   "metadata": {},
   "outputs": [
    {
     "data": {
      "text/plain": [
       "array([ 9.27536232, 18.55072464])"
      ]
     },
     "execution_count": 112,
     "metadata": {},
     "output_type": "execute_result"
    }
   ],
   "source": [
    "np.array([600, 1200])/2070 * 32"
   ]
  },
  {
   "cell_type": "code",
   "execution_count": 113,
   "id": "68a6f075",
   "metadata": {},
   "outputs": [
    {
     "data": {
      "text/plain": [
       "array([40.74074074, 55.55555556])"
      ]
     },
     "execution_count": 113,
     "metadata": {},
     "output_type": "execute_result"
    }
   ],
   "source": [
    "np.array([2200, 3000])/3456 * 64"
   ]
  },
  {
   "cell_type": "code",
   "execution_count": 135,
   "id": "c90761f6",
   "metadata": {},
   "outputs": [
    {
     "data": {
      "text/plain": [
       "(2234, 3456, 3)"
      ]
     },
     "execution_count": 135,
     "metadata": {},
     "output_type": "execute_result"
    }
   ],
   "source": [
    "img = Image.open('images/science_center1680284125.821405.png').convert('RGB')\n",
    "img = np.asarray(img6)\n",
    "\n",
    "# img = np.asarray(one_truck_image)\n",
    "img.shape"
   ]
  },
  {
   "cell_type": "code",
   "execution_count": 136,
   "id": "847e9f3b",
   "metadata": {},
   "outputs": [],
   "source": [
    "truck1 = Image.fromarray(img[truck_1_location[0][0]:truck_1_location[0][1],\n",
    "                    truck_1_location[1][0]:truck_1_location[1][1],:])\n",
    "truck1.show()"
   ]
  },
  {
   "cell_type": "code",
   "execution_count": 139,
   "id": "024e97ec",
   "metadata": {},
   "outputs": [],
   "source": [
    "truck2 = Image.fromarray(img[truck_2_location[0][0]:truck_2_location[0][1],\n",
    "                    truck_2_location[1][0]:truck_2_location[1][1],:])\n",
    "truck2.show()"
   ]
  },
  {
   "cell_type": "code",
   "execution_count": 140,
   "id": "5b93a0c7",
   "metadata": {},
   "outputs": [],
   "source": [
    "truck3 = Image.fromarray(img[truck_3_location[0][0]:truck_3_location[0][1],\n",
    "                    truck_3_location[1][0]:truck_3_location[1][1],:])\n",
    "truck3.show()\n"
   ]
  },
  {
   "cell_type": "code",
   "execution_count": 132,
   "id": "97ff41bc",
   "metadata": {},
   "outputs": [
    {
     "data": {
      "text/plain": [
       "array([186., 167., 112.])"
      ]
     },
     "execution_count": 132,
     "metadata": {},
     "output_type": "execute_result"
    }
   ],
   "source": [
    "np.median(truck1, axis=(0,1)) "
   ]
  },
  {
   "cell_type": "code",
   "execution_count": 71,
   "id": "369094b7",
   "metadata": {},
   "outputs": [
    {
     "data": {
      "text/plain": [
       "array([138., 187., 211.])"
      ]
     },
     "execution_count": 71,
     "metadata": {},
     "output_type": "execute_result"
    }
   ],
   "source": [
    "np.median(truck2, axis=(0,1)) "
   ]
  },
  {
   "cell_type": "code",
   "execution_count": 78,
   "id": "5dae0c0e",
   "metadata": {},
   "outputs": [
    {
     "data": {
      "text/plain": [
       "array([187., 164., 157.])"
      ]
     },
     "execution_count": 78,
     "metadata": {},
     "output_type": "execute_result"
    }
   ],
   "source": [
    "med_color = np.median(np.asarray(chicken_1), axis=(0,1))\n",
    "med_color"
   ]
  },
  {
   "cell_type": "code",
   "execution_count": 85,
   "id": "c3f42b3f",
   "metadata": {},
   "outputs": [
    {
     "name": "stdout",
     "output_type": "stream",
     "text": [
      "[166. 139. 154.]\n"
     ]
    },
    {
     "data": {
      "text/plain": [
       "<matplotlib.image.AxesImage at 0x1279702e0>"
      ]
     },
     "execution_count": 85,
     "metadata": {},
     "output_type": "execute_result"
    },
    {
     "data": {
      "image/png": "[encoded data removed]",
      "text/plain": [
       "<Figure size 640x480 with 1 Axes>"
      ]
     },
     "metadata": {},
     "output_type": "display_data"
    }
   ],
   "source": [
    "med_color = np.median(tenoch_1, axis=(0,1)) \n",
    "print(med_color)\n",
    "plt.imshow([[med_color/256]])"
   ]
  },
  {
   "cell_type": "code",
   "execution_count": 130,
   "id": "1239af61",
   "metadata": {},
   "outputs": [],
   "source": [
    "bonme_median_color = np.array([141., 189., 212.])\n",
    "bonme_median_color_2 = np.array([133., 194., 221.])\n",
    "bonme_median_color_3 = np.array([138., 187., 211.])\n",
    "\n",
    "chicken_median_color = np.array([186., 167., 112.])\n",
    "chicken_median_color_2 = np.array([187., 164., 157.])\n",
    "chicken_median_color_3 = np.array([171., 155., 143.])\n",
    "chicken_median_color_4 = np.array([171., 154., 133.])\n",
    "\n",
    "tenoch_median_color = np.array([164., 133., 138.])\n",
    "tenoch_median_color_2 = np.array([166., 139., 154.])\n",
    "\n",
    "# Zinnekins\n",
    "\n",
    "# Zaaki\n",
    "\n",
    "# Roxy's\n",
    "\n",
    "nothing_median_color = np.array([200., 202., 210.])\n",
    "nothing_median_color = np.array([186., 189., 200.])"
   ]
  },
  {
   "cell_type": "code",
   "execution_count": 131,
   "id": "6702eb39",
   "metadata": {},
   "outputs": [
    {
     "data": {
      "text/plain": [
       "<matplotlib.image.AxesImage at 0x121231f10>"
      ]
     },
     "execution_count": 131,
     "metadata": {},
     "output_type": "execute_result"
    },
    {
     "data": {
      "image/png": "[encoded data removed]",
      "text/plain": [
       "<Figure size 640x480 with 1 Axes>"
      ]
     },
     "metadata": {},
     "output_type": "display_data"
    }
   ],
   "source": [
    "plt.imshow([[bonme_median_color/256]])"
   ]
  },
  {
   "cell_type": "code",
   "execution_count": null,
   "id": "e369f506",
   "metadata": {},
   "outputs": [],
   "source": []
  }
 ],
 "metadata": {
  "kernelspec": {
   "display_name": "Python 3 (ipykernel)",
   "language": "python",
   "name": "python3"
  },
  "language_info": {
   "codemirror_mode": {
    "name": "ipython",
    "version": 3
   },
   "file_extension": ".py",
   "mimetype": "text/x-python",
   "name": "python",
   "nbconvert_exporter": "python",
   "pygments_lexer": "ipython3",
   "version": "3.8.16"
  }
 },
 "nbformat": 4,
 "nbformat_minor": 5
}
